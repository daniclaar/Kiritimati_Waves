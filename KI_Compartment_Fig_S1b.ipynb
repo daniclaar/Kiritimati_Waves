{
 "cells": [
  {
   "cell_type": "code",
   "execution_count": 58,
   "metadata": {
    "collapsed": false
   },
   "outputs": [
    {
     "name": "stdout",
     "output_type": "stream",
     "text": [
      "3.43\n"
     ]
    },
    {
     "name": "stderr",
     "output_type": "stream",
     "text": [
      "C:\\ProgramData\\Anaconda3\\lib\\site-packages\\matplotlib\\figure.py:1742: UserWarning: This figure includes Axes that are not compatible with tight_layout, so its results might be incorrect.\n",
      "  warnings.warn(\"This figure includes Axes that are not \"\n"
     ]
    }
   ],
   "source": [
    "# Plot the windrose for wave height through the full time series (2005-2017)\n",
    "\n",
    "from windrose import WindroseAxes\n",
    "from matplotlib import pyplot as plt\n",
    "import matplotlib.cm as cm\n",
    "import numpy as np\n",
    "import pandas\n",
    "from matplotlib import rcParams\n",
    "\n",
    "viridis = plt.get_cmap('viridis') # Get viridis colormap for plotting\n",
    "\n",
    "dp = np.load('dp_all_0360.npy') # Load in wave direction\n",
    "hs = np.load('hs_all_0360.npy') # Load in significant wave height\n",
    "\n",
    "print(max(hs)) # Print the maximum wave height for all events\n",
    "\n",
    "plt.figure(1) # Initialize figure 1\n",
    "ax = WindroseAxes.from_ax() # Can add rmax here to determine the size of the largest circle\n",
    "ax.bar(dp, hs, normed=True, opening=0.8, edgecolor='white',cmap=viridis,bins=np.arange(0.75, 3.5, 0.25),nsector=8)\n",
    "# ax.box is also an option, but it looks much worse than ax.bar, so I haven't used it here\n",
    "ax.set_legend()\n",
    "legend=plt.legend(bbox_to_anchor=(1.05, 1), loc=0, borderaxespad=0.,fontsize=22,title='Significant Wave Height (m)',)\n",
    "legend.get_title().set_fontsize('22') #legend 'Title' fontsize\n",
    "ax.tick_params(labelsize=22)\n",
    "\n",
    "#plt.show() # Show figure in console\n",
    "plt.savefig('hs_all_360.pdf',dpi=300,format='pdf', bbox_extra_artists=(legend,), bbox_inches='tight') # Save the figure ## Can do transparent=True here \n",
    "\n",
    "plt.close()"
   ]
  },
  {
   "cell_type": "code",
   "execution_count": 54,
   "metadata": {
    "collapsed": true
   },
   "outputs": [],
   "source": [
    "plt.close()"
   ]
  },
  {
   "cell_type": "code",
   "execution_count": null,
   "metadata": {
    "collapsed": true
   },
   "outputs": [],
   "source": []
  }
 ],
 "metadata": {
  "kernelspec": {
   "display_name": "Python 3",
   "language": "python",
   "name": "python3"
  },
  "language_info": {
   "codemirror_mode": {
    "name": "ipython",
    "version": 3
   },
   "file_extension": ".py",
   "mimetype": "text/x-python",
   "name": "python",
   "nbconvert_exporter": "python",
   "pygments_lexer": "ipython3",
   "version": "3.6.0"
  }
 },
 "nbformat": 4,
 "nbformat_minor": 2
}
